{
 "cells": [
  {
   "cell_type": "code",
   "execution_count": 1,
   "id": "4b4185df",
   "metadata": {},
   "outputs": [],
   "source": [
    "from transformers import BertModel, BertTokenizer \n",
    "tokenizer = BertTokenizer.from_pretrained('bert-base-uncased') \n",
    "model = BertModel.from_pretrained(\"bert-base-uncased\") \n",
    "inputs = tokenizer(\"तुम्हारे घर का फ़ोन नम्बर क्या है?\", return_tensors=\"pt\") \n",
    "outputs = model(**inputs)"
   ]
  },
  {
   "cell_type": "code",
   "execution_count": 7,
   "id": "db33a527",
   "metadata": {},
   "outputs": [
    {
     "name": "stdout",
     "output_type": "stream",
     "text": [
      "torch.Size([1, 20, 768])\n"
     ]
    }
   ],
   "source": [
    "last_hidden_state = outputs.last_hidden_state\n",
    "print(last_hidden_state.shape)"
   ]
  },
  {
   "cell_type": "code",
   "execution_count": 8,
   "id": "e79b224c",
   "metadata": {},
   "outputs": [
    {
     "name": "stdout",
     "output_type": "stream",
     "text": [
      "tensor([[[-5.8975e-01, -8.7847e-02, -5.8254e-01,  ..., -2.5329e-01,\n",
      "           6.6687e-01, -4.3353e-02],\n",
      "         [ 1.1962e+00, -2.9973e-02, -1.5523e-01,  ...,  2.0418e-04,\n",
      "           6.7027e-01,  4.2801e-01],\n",
      "         [-4.0395e-01, -8.7240e-02, -4.4710e-01,  ...,  3.1282e-01,\n",
      "           4.4618e-01, -9.8977e-01],\n",
      "         ...,\n",
      "         [ 1.4136e+00, -1.7993e-01, -3.1218e-01,  ...,  4.5659e-02,\n",
      "           5.5239e-01, -6.8459e-01],\n",
      "         [-8.9821e-02, -4.8726e-01, -1.0443e+00,  ...,  1.8144e-01,\n",
      "           4.1503e-01, -6.5735e-01],\n",
      "         [ 3.7665e-01,  1.4935e-01, -4.5784e-01,  ..., -3.7127e-03,\n",
      "          -3.0159e-01, -3.2381e-01]]], grad_fn=<NativeLayerNormBackward0>)\n"
     ]
    }
   ],
   "source": [
    "print(last_hidden_state)"
   ]
  },
  {
   "cell_type": "code",
   "execution_count": null,
   "id": "43e7716a",
   "metadata": {},
   "outputs": [],
   "source": []
  }
 ],
 "metadata": {
  "kernelspec": {
   "display_name": "Python 3 (ipykernel)",
   "language": "python",
   "name": "python3"
  },
  "language_info": {
   "codemirror_mode": {
    "name": "ipython",
    "version": 3
   },
   "file_extension": ".py",
   "mimetype": "text/x-python",
   "name": "python",
   "nbconvert_exporter": "python",
   "pygments_lexer": "ipython3",
   "version": "3.10.12"
  }
 },
 "nbformat": 4,
 "nbformat_minor": 5
}
