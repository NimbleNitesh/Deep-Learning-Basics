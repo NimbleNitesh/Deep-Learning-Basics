{
 "cells": [
  {
   "cell_type": "code",
   "execution_count": 13,
   "id": "348913f3",
   "metadata": {},
   "outputs": [],
   "source": [
    "import numpy as np\n",
    "import pandas as pd\n",
    "from pathlib import Path\n",
    "import os.path\n",
    "import cv2\n",
    "import matplotlib.pyplot as plt\n",
    "import seaborn as sns\n",
    "import torch\n",
    "import torch.nn as nn"
   ]
  },
  {
   "cell_type": "code",
   "execution_count": 14,
   "id": "ba73f37e",
   "metadata": {},
   "outputs": [
    {
     "data": {
      "text/html": [
       "<div>\n",
       "<style scoped>\n",
       "    .dataframe tbody tr th:only-of-type {\n",
       "        vertical-align: middle;\n",
       "    }\n",
       "\n",
       "    .dataframe tbody tr th {\n",
       "        vertical-align: top;\n",
       "    }\n",
       "\n",
       "    .dataframe thead th {\n",
       "        text-align: right;\n",
       "    }\n",
       "</style>\n",
       "<table border=\"1\" class=\"dataframe\">\n",
       "  <thead>\n",
       "    <tr style=\"text-align: right;\">\n",
       "      <th></th>\n",
       "      <th>Filepath</th>\n",
       "      <th>Age</th>\n",
       "    </tr>\n",
       "  </thead>\n",
       "  <tbody>\n",
       "    <tr>\n",
       "      <th>0</th>\n",
       "      <td>20-50/test/20/28492.jpg</td>\n",
       "      <td>20</td>\n",
       "    </tr>\n",
       "    <tr>\n",
       "      <th>1</th>\n",
       "      <td>20-50/test/20/28521.jpg</td>\n",
       "      <td>20</td>\n",
       "    </tr>\n",
       "    <tr>\n",
       "      <th>2</th>\n",
       "      <td>20-50/test/20/28681.jpg</td>\n",
       "      <td>20</td>\n",
       "    </tr>\n",
       "    <tr>\n",
       "      <th>3</th>\n",
       "      <td>20-50/test/20/28801.jpg</td>\n",
       "      <td>20</td>\n",
       "    </tr>\n",
       "    <tr>\n",
       "      <th>4</th>\n",
       "      <td>20-50/test/20/28815.jpg</td>\n",
       "      <td>20</td>\n",
       "    </tr>\n",
       "  </tbody>\n",
       "</table>\n",
       "</div>"
      ],
      "text/plain": [
       "                  Filepath  Age\n",
       "0  20-50/test/20/28492.jpg   20\n",
       "1  20-50/test/20/28521.jpg   20\n",
       "2  20-50/test/20/28681.jpg   20\n",
       "3  20-50/test/20/28801.jpg   20\n",
       "4  20-50/test/20/28815.jpg   20"
      ]
     },
     "execution_count": 14,
     "metadata": {},
     "output_type": "execute_result"
    }
   ],
   "source": [
    "image_dir = Path('./20-50/test')\n",
    "filepaths = pd.Series(list(image_dir.glob(r'**/*.jpg')), name='Filepath').astype(str)\n",
    "ages = pd.Series(filepaths.apply(lambda x: os.path.split(os.path.split(x)[0])[1]), name='Age').astype(np.int32)\n",
    "\n",
    "test = pd.concat([filepaths, ages], axis=1)\n",
    "test.head()"
   ]
  },
  {
   "cell_type": "code",
   "execution_count": 15,
   "id": "6e228d35",
   "metadata": {},
   "outputs": [
    {
     "data": {
      "text/html": [
       "<div>\n",
       "<style scoped>\n",
       "    .dataframe tbody tr th:only-of-type {\n",
       "        vertical-align: middle;\n",
       "    }\n",
       "\n",
       "    .dataframe tbody tr th {\n",
       "        vertical-align: top;\n",
       "    }\n",
       "\n",
       "    .dataframe thead th {\n",
       "        text-align: right;\n",
       "    }\n",
       "</style>\n",
       "<table border=\"1\" class=\"dataframe\">\n",
       "  <thead>\n",
       "    <tr style=\"text-align: right;\">\n",
       "      <th></th>\n",
       "      <th>Filepath</th>\n",
       "      <th>Age</th>\n",
       "    </tr>\n",
       "  </thead>\n",
       "  <tbody>\n",
       "    <tr>\n",
       "      <th>0</th>\n",
       "      <td>20-50/train/20/144864.jpg</td>\n",
       "      <td>20</td>\n",
       "    </tr>\n",
       "    <tr>\n",
       "      <th>1</th>\n",
       "      <td>20-50/train/20/122542.jpg</td>\n",
       "      <td>20</td>\n",
       "    </tr>\n",
       "    <tr>\n",
       "      <th>2</th>\n",
       "      <td>20-50/train/20/122550.jpg</td>\n",
       "      <td>20</td>\n",
       "    </tr>\n",
       "    <tr>\n",
       "      <th>3</th>\n",
       "      <td>20-50/train/20/122573.jpg</td>\n",
       "      <td>20</td>\n",
       "    </tr>\n",
       "    <tr>\n",
       "      <th>4</th>\n",
       "      <td>20-50/train/20/122642.jpg</td>\n",
       "      <td>20</td>\n",
       "    </tr>\n",
       "  </tbody>\n",
       "</table>\n",
       "</div>"
      ],
      "text/plain": [
       "                    Filepath  Age\n",
       "0  20-50/train/20/144864.jpg   20\n",
       "1  20-50/train/20/122542.jpg   20\n",
       "2  20-50/train/20/122550.jpg   20\n",
       "3  20-50/train/20/122573.jpg   20\n",
       "4  20-50/train/20/122642.jpg   20"
      ]
     },
     "execution_count": 15,
     "metadata": {},
     "output_type": "execute_result"
    }
   ],
   "source": [
    "image_dir = Path('./20-50/train')\n",
    "filepaths = pd.Series(list(image_dir.glob(r'**/*.jpg')), name='Filepath').astype(str)\n",
    "ages = pd.Series(filepaths.apply(lambda x: os.path.split(os.path.split(x)[0])[1]), name='Age').astype(np.int32)\n",
    "\n",
    "images = pd.concat([filepaths, ages], axis=1)\n",
    "images.head()"
   ]
  },
  {
   "cell_type": "code",
   "execution_count": 16,
   "id": "be1e8cd9",
   "metadata": {},
   "outputs": [
    {
     "name": "stdout",
     "output_type": "stream",
     "text": [
      "Age: 20\n",
      "(128, 128, 3)\n"
     ]
    },
    {
     "data": {
      "image/png": "[encoded data removed]",
      "text/plain": [
       "<Figure size 700x700 with 1 Axes>"
      ]
     },
     "metadata": {},
     "output_type": "display_data"
    }
   ],
   "source": [
    "def visualize(image):\n",
    "    plt.figure(figsize=(7, 7))\n",
    "    plt.axis('off')\n",
    "    plt.imshow(image)\n",
    "\n",
    "#choose an image id to see its age\n",
    "image_id = 32\n",
    "image_example_path = images.iloc[image_id].Filepath\n",
    "age = images.iloc[image_id].Age\n",
    "\n",
    "print(f'Age: {age}')\n",
    "image = cv2.imread(image_example_path)\n",
    "print(image.shape)\n",
    "image = cv2.cvtColor(image, cv2.COLOR_BGR2RGB)\n",
    "visualize(image)"
   ]
  },
  {
   "cell_type": "code",
   "execution_count": 17,
   "id": "51ae0373",
   "metadata": {},
   "outputs": [
    {
     "data": {
      "text/plain": [
       "(array([ 0,  1,  2,  3,  4,  5,  6,  7,  8,  9, 10]),\n",
       " [Text(0, 0, '20'),\n",
       "  Text(1, 0, '21'),\n",
       "  Text(2, 0, '22'),\n",
       "  Text(3, 0, '23'),\n",
       "  Text(4, 0, '24'),\n",
       "  Text(5, 0, '25'),\n",
       "  Text(6, 0, '26'),\n",
       "  Text(7, 0, '27'),\n",
       "  Text(8, 0, '28'),\n",
       "  Text(9, 0, '29'),\n",
       "  Text(10, 0, '30')])"
      ]
     },
     "execution_count": 17,
     "metadata": {},
     "output_type": "execute_result"
    },
    {
     "data": {
      "image/png": "[encoded data removed]",
      "text/plain": [
       "<Figure size 640x480 with 1 Axes>"
      ]
     },
     "metadata": {},
     "output_type": "display_data"
    }
   ],
   "source": [
    "sns.countplot(x='Age', data=images)\n",
    "plt.xticks(rotation = 45)"
   ]
  },
  {
   "cell_type": "markdown",
   "id": "dae26d3f",
   "metadata": {},
   "source": [
    "We will go for a 31-class classification approach:\n",
    "class 0: 20 years\n",
    "...\n",
    "class 31: 50 years"
   ]
  },
  {
   "cell_type": "code",
   "execution_count": 18,
   "id": "50b32b3d",
   "metadata": {},
   "outputs": [],
   "source": [
    "images.Age = images.Age - 20"
   ]
  },
  {
   "cell_type": "code",
   "execution_count": 19,
   "id": "6eb6ff53",
   "metadata": {},
   "outputs": [],
   "source": [
    "from sklearn.model_selection import train_test_split\n",
    "train, valid = train_test_split(images, test_size=0.2, random_state=2)"
   ]
  },
  {
   "cell_type": "code",
   "execution_count": 20,
   "id": "70a0c994",
   "metadata": {},
   "outputs": [],
   "source": [
    "class ImageAgeDataset():\n",
    "    def __init__(self, images):\n",
    "        self.age = images.Age.values\n",
    "        self.paths = images.Filepath.values\n",
    "        \n",
    "    def __len__(self):\n",
    "        return len(self.age)\n",
    "    \n",
    "    def __getitem__(self, item):\n",
    "        out = dict()\n",
    "        path = self.paths[item]\n",
    "        image = cv2.imread(path)\n",
    "        image = cv2.resize(image, (128, 128))\n",
    "        image = cv2.cvtColor(image, cv2.COLOR_BGR2RGB)\n",
    "        image = np.array(image, dtype=float)\n",
    "        out['x'] = torch.tensor(image, dtype = torch.float).permute(2, 0, 1)/255\n",
    "        out['y'] = torch.tensor(self.age[item], dtype = torch.long)\n",
    "        return out"
   ]
  },
  {
   "cell_type": "code",
   "execution_count": 21,
   "id": "3283b9cc",
   "metadata": {},
   "outputs": [],
   "source": [
    "train_dataset = ImageAgeDataset(train)\n",
    "valid_dataset = ImageAgeDataset(valid)"
   ]
  },
  {
   "cell_type": "code",
   "execution_count": 22,
   "id": "29e3f6e1",
   "metadata": {},
   "outputs": [],
   "source": [
    "class AlexNetwork(nn.Module):\n",
    "    def __init__(self, n_classes):\n",
    "        super(AlexNetwork, self).__init__()\n",
    "        self.n_classes = n_classes\n",
    "        self.conv_1 = nn.Conv2d(\n",
    "            in_channels=3,\n",
    "            out_channels=64,  # Reduced from 96\n",
    "            kernel_size=11,\n",
    "            stride=4,\n",
    "            padding=58\n",
    "        )\n",
    "        self.pool_1 = nn.MaxPool2d(\n",
    "            kernel_size=3,\n",
    "            stride=2\n",
    "        )\n",
    "        self.conv_2 = nn.Conv2d(\n",
    "            in_channels=64,  # Input channels reduced from 96\n",
    "            out_channels=192,  # Reduced from 256\n",
    "            kernel_size=5,\n",
    "            stride=1,\n",
    "            padding=2\n",
    "        )\n",
    "        self.pool_2 = nn.MaxPool2d(\n",
    "            kernel_size=3,\n",
    "            stride=2\n",
    "        )\n",
    "        self.conv_3 = nn.Conv2d(\n",
    "            in_channels=192,  # Input channels reduced from 256\n",
    "            out_channels=384,\n",
    "            kernel_size=3,\n",
    "            stride=1,\n",
    "            padding=1\n",
    "        )\n",
    "        self.conv_4 = nn.Conv2d(\n",
    "            in_channels=384,\n",
    "            out_channels=256,  # Reduced from 384\n",
    "            kernel_size=3,\n",
    "            stride=1,\n",
    "            padding=1\n",
    "        )\n",
    "        self.conv_5 = nn.Conv2d(\n",
    "            in_channels=256,\n",
    "            out_channels=256,  # Reduced from 384\n",
    "            kernel_size=3,\n",
    "            stride=1,\n",
    "            padding=1\n",
    "        )\n",
    "        self.pool_3 = nn.MaxPool2d(\n",
    "            kernel_size=3,\n",
    "            stride=2\n",
    "        )\n",
    "        self.nn = nn.Sequential(nn.Linear(in_features=9216, out_features=2048),\n",
    "                                nn.ReLU(),\n",
    "                                nn.Linear(in_features=2048, out_features=1024),\n",
    "                                nn.ReLU(),\n",
    "                                nn.Linear(in_features=1024, out_features=self.n_classes)\n",
    "                               )\n",
    "    \n",
    "    def forward(self, x):\n",
    "        x = self.conv_1(x)\n",
    "        x = self.pool_1(x)\n",
    "        x = self.conv_2(x)\n",
    "        x = self.pool_2(x)\n",
    "        x = self.conv_3(x)\n",
    "        x = self.conv_4(x)\n",
    "        x = self.conv_5(x)\n",
    "        x = self.pool_3(x)\n",
    "        x = x.view(-1, 9216)\n",
    "        x = self.nn(x)\n",
    "        \n",
    "        return x\n"
   ]
  },
  {
   "cell_type": "code",
   "execution_count": 23,
   "id": "01d10eb8",
   "metadata": {},
   "outputs": [],
   "source": [
    "DEVICE = torch.device('cude') if torch.cuda.is_available() else torch.device('cpu')\n",
    "BATCH_SIZE = 50\n",
    "MAX_WAIT = 3\n",
    "EPOCHS = 10\n",
    "LR = 10\n",
    "\n",
    "train_dataloader = torch.utils.data.DataLoader(\n",
    "    dataset = train_dataset,\n",
    "    batch_size = BATCH_SIZE,\n",
    "    shuffle = True,\n",
    "#     num_workers = 8\n",
    ")\n",
    "\n",
    "valid_dataloader = torch.utils.data.DataLoader(\n",
    "    dataset=valid_dataset,\n",
    "    batch_size=BATCH_SIZE,\n",
    "    shuffle=False,\n",
    "#     num_workers=8\n",
    ")\n",
    "\n",
    "model = AlexNetwork(11)\n",
    "model.to(DEVICE)\n",
    "\n",
    "loss_fn = nn.CrossEntropyLoss()\n",
    "\n",
    "optimizer = torch.optim.Adam(params=model.parameters(), lr=LR)\n",
    "\n",
    "from tqdm.notebook import tqdm\n",
    "import numpy as np\n",
    "\n",
    "def train_step(model, optimizer, dataloader):\n",
    "    model.train()\n",
    "    total_loss = 0\n",
    "    for data in tqdm(dataloader):\n",
    "        x = data['x'].to(DEVICE)\n",
    "        y = data['y'].to(DEVICE)\n",
    "        y_hat = model(x).to(DEVICE) #to apply model(x), x and model must be in the same place (device)\n",
    "        loss = loss_fn(y_hat, y) #enough for y_hat and y to be in the same device\n",
    "        loss.backward()\n",
    "        optimizer.step()\n",
    "        optimizer.zero_grad()\n",
    "        total_loss += loss.item()\n",
    "        \n",
    "    return total_loss/len(dataloader)\n",
    "\n",
    "def valid_step(model, dataloader):\n",
    "    model.eval()\n",
    "    total_loss = 0\n",
    "    for data in tqdm(dataloader):\n",
    "        x = data['x'].to(DEVICE)\n",
    "        y = data['y'].to(DEVICE)\n",
    "        with torch.no_grad():\n",
    "            y_hat = model(x).to(DEVICE)\n",
    "            loss = loss_fn(y_hat, y)\n",
    "            \n",
    "        total_loss += loss.item()\n",
    "    return total_loss/len(dataloader)\n",
    "\n",
    "def main(model, optimizer, train_dataloader, valid_dataloader):\n",
    "    train_losses = []\n",
    "    valid_losses = []\n",
    "    min_valid_loss = np.inf\n",
    "    patience = 0\n",
    "    \n",
    "    for epoch in range(EPOCHS):\n",
    "        train_loss = train_step(model, optimizer, train_dataloader)\n",
    "        train_losses.append(train_loss)\n",
    "        valid_loss = valid_step(model, valid_dataloader)\n",
    "        valid_losses.append(valid_loss)\n",
    "        \n",
    "        print(f'EPOCH = {epoch}')\n",
    "        print(f'train_loss = {train_loss}')\n",
    "        print(f'valid_loss = {valid_loss}')\n",
    "        \n",
    "        if valid_loss > min_valid_loss:\n",
    "            patience += 1\n",
    "        else:\n",
    "            min_valid_loss = valid_loss\n",
    "            patience = 0\n",
    "            \n",
    "        if patience > MAX_WAIT:\n",
    "            print(f'EARLY STOPPING AT EPOCH = {epoch}')\n",
    "            break\n",
    "            \n",
    "    return train_losses, valid_losses"
   ]
  },
  {
   "cell_type": "code",
   "execution_count": 24,
   "id": "c41b6646",
   "metadata": {},
   "outputs": [
    {
     "data": {
      "application/vnd.jupyter.widget-view+json": {
       "model_id": "e428ae1111a041cea94f1fa544730551",
       "version_major": 2,
       "version_minor": 0
      },
      "text/plain": [
       "  0%|          | 0/194 [00:00<?, ?it/s]"
      ]
     },
     "metadata": {},
     "output_type": "display_data"
    },
    {
     "data": {
      "application/vnd.jupyter.widget-view+json": {
       "model_id": "d2afb35765234a30b1ddb4eff90c5a85",
       "version_major": 2,
       "version_minor": 0
      },
      "text/plain": [
       "  0%|          | 0/49 [00:00<?, ?it/s]"
      ]
     },
     "metadata": {},
     "output_type": "display_data"
    },
    {
     "name": "stdout",
     "output_type": "stream",
     "text": [
      "EPOCH = 0\n",
      "train_loss = 1.9797368486797363e+25\n",
      "valid_loss = 1.1061417763210761e+24\n"
     ]
    },
    {
     "data": {
      "application/vnd.jupyter.widget-view+json": {
       "model_id": "b68a092ca45f4a6a8b802185c3d0bf49",
       "version_major": 2,
       "version_minor": 0
      },
      "text/plain": [
       "  0%|          | 0/194 [00:00<?, ?it/s]"
      ]
     },
     "metadata": {},
     "output_type": "display_data"
    },
    {
     "data": {
      "application/vnd.jupyter.widget-view+json": {
       "model_id": "5eb597c2d6564039b019f9aa7c476bdc",
       "version_major": 2,
       "version_minor": 0
      },
      "text/plain": [
       "  0%|          | 0/49 [00:00<?, ?it/s]"
      ]
     },
     "metadata": {},
     "output_type": "display_data"
    },
    {
     "name": "stdout",
     "output_type": "stream",
     "text": [
      "EPOCH = 1\n",
      "train_loss = 1.7599212471179065e+23\n",
      "valid_loss = 19141.172771843114\n"
     ]
    },
    {
     "data": {
      "application/vnd.jupyter.widget-view+json": {
       "model_id": "2766325da5bd4724a5aa6808dec7a197",
       "version_major": 2,
       "version_minor": 0
      },
      "text/plain": [
       "  0%|          | 0/194 [00:00<?, ?it/s]"
      ]
     },
     "metadata": {},
     "output_type": "display_data"
    },
    {
     "data": {
      "application/vnd.jupyter.widget-view+json": {
       "model_id": "b5a28029e8374ccebb0e90753a7de8f2",
       "version_major": 2,
       "version_minor": 0
      },
      "text/plain": [
       "  0%|          | 0/49 [00:00<?, ?it/s]"
      ]
     },
     "metadata": {},
     "output_type": "display_data"
    },
    {
     "name": "stdout",
     "output_type": "stream",
     "text": [
      "EPOCH = 2\n",
      "train_loss = 9164.134813446359\n",
      "valid_loss = 2706.132902184311\n"
     ]
    },
    {
     "data": {
      "application/vnd.jupyter.widget-view+json": {
       "model_id": "42df18cb6e6f43b390d82f1e7a8e7016",
       "version_major": 2,
       "version_minor": 0
      },
      "text/plain": [
       "  0%|          | 0/194 [00:00<?, ?it/s]"
      ]
     },
     "metadata": {},
     "output_type": "display_data"
    },
    {
     "data": {
      "application/vnd.jupyter.widget-view+json": {
       "model_id": "1e3db4599a294a7592aa8ceb876200c4",
       "version_major": 2,
       "version_minor": 0
      },
      "text/plain": [
       "  0%|          | 0/49 [00:00<?, ?it/s]"
      ]
     },
     "metadata": {},
     "output_type": "display_data"
    },
    {
     "name": "stdout",
     "output_type": "stream",
     "text": [
      "EPOCH = 3\n",
      "train_loss = 2205.3408388747384\n",
      "valid_loss = 1660.9887172154017\n"
     ]
    },
    {
     "data": {
      "application/vnd.jupyter.widget-view+json": {
       "model_id": "ff6780119ac64100a038273ee9d88f24",
       "version_major": 2,
       "version_minor": 0
      },
      "text/plain": [
       "  0%|          | 0/194 [00:00<?, ?it/s]"
      ]
     },
     "metadata": {},
     "output_type": "display_data"
    },
    {
     "data": {
      "application/vnd.jupyter.widget-view+json": {
       "model_id": "a3d9b94badcd44aeb79a4bbad296c942",
       "version_major": 2,
       "version_minor": 0
      },
      "text/plain": [
       "  0%|          | 0/49 [00:00<?, ?it/s]"
      ]
     },
     "metadata": {},
     "output_type": "display_data"
    },
    {
     "name": "stdout",
     "output_type": "stream",
     "text": [
      "EPOCH = 4\n",
      "train_loss = 2250.7718254168008\n",
      "valid_loss = 1840.2346864038584\n"
     ]
    },
    {
     "data": {
      "application/vnd.jupyter.widget-view+json": {
       "model_id": "93508c3dd23542e78cc9a9ea6da895d5",
       "version_major": 2,
       "version_minor": 0
      },
      "text/plain": [
       "  0%|          | 0/194 [00:00<?, ?it/s]"
      ]
     },
     "metadata": {},
     "output_type": "display_data"
    },
    {
     "data": {
      "application/vnd.jupyter.widget-view+json": {
       "model_id": "f6f4f68c934e44ebabbc587cf422c8cb",
       "version_major": 2,
       "version_minor": 0
      },
      "text/plain": [
       "  0%|          | 0/49 [00:00<?, ?it/s]"
      ]
     },
     "metadata": {},
     "output_type": "display_data"
    },
    {
     "name": "stdout",
     "output_type": "stream",
     "text": [
      "EPOCH = 5\n",
      "train_loss = 2092.2275566808958\n",
      "valid_loss = 889.956204161352\n"
     ]
    },
    {
     "data": {
      "application/vnd.jupyter.widget-view+json": {
       "model_id": "6f85c26b2b934e9195590c5f7cf9d5cb",
       "version_major": 2,
       "version_minor": 0
      },
      "text/plain": [
       "  0%|          | 0/194 [00:00<?, ?it/s]"
      ]
     },
     "metadata": {},
     "output_type": "display_data"
    },
    {
     "data": {
      "application/vnd.jupyter.widget-view+json": {
       "model_id": "2fe0a75736194335b26ccdf489edd90f",
       "version_major": 2,
       "version_minor": 0
      },
      "text/plain": [
       "  0%|          | 0/49 [00:00<?, ?it/s]"
      ]
     },
     "metadata": {},
     "output_type": "display_data"
    },
    {
     "name": "stdout",
     "output_type": "stream",
     "text": [
      "EPOCH = 6\n",
      "train_loss = 2045.7122511716234\n",
      "valid_loss = 3460.5991858657526\n"
     ]
    },
    {
     "data": {
      "application/vnd.jupyter.widget-view+json": {
       "model_id": "404ecad17cc042a8b1b29e8cff772406",
       "version_major": 2,
       "version_minor": 0
      },
      "text/plain": [
       "  0%|          | 0/194 [00:00<?, ?it/s]"
      ]
     },
     "metadata": {},
     "output_type": "display_data"
    },
    {
     "data": {
      "application/vnd.jupyter.widget-view+json": {
       "model_id": "180d08c0b6fe441a875fb30d70c2933a",
       "version_major": 2,
       "version_minor": 0
      },
      "text/plain": [
       "  0%|          | 0/49 [00:00<?, ?it/s]"
      ]
     },
     "metadata": {},
     "output_type": "display_data"
    },
    {
     "name": "stdout",
     "output_type": "stream",
     "text": [
      "EPOCH = 7\n",
      "train_loss = 1925.7143759186736\n",
      "valid_loss = 1213.7456851881377\n"
     ]
    },
    {
     "data": {
      "application/vnd.jupyter.widget-view+json": {
       "model_id": "eb0ffc5cd81b406f99c49d4d6c5b1f67",
       "version_major": 2,
       "version_minor": 0
      },
      "text/plain": [
       "  0%|          | 0/194 [00:00<?, ?it/s]"
      ]
     },
     "metadata": {},
     "output_type": "display_data"
    },
    {
     "data": {
      "application/vnd.jupyter.widget-view+json": {
       "model_id": "b760d4ccd19d4759ae4524f34c320263",
       "version_major": 2,
       "version_minor": 0
      },
      "text/plain": [
       "  0%|          | 0/49 [00:00<?, ?it/s]"
      ]
     },
     "metadata": {},
     "output_type": "display_data"
    },
    {
     "name": "stdout",
     "output_type": "stream",
     "text": [
      "EPOCH = 8\n",
      "train_loss = 2041.1879461229462\n",
      "valid_loss = 2334.0922776825573\n"
     ]
    },
    {
     "data": {
      "application/vnd.jupyter.widget-view+json": {
       "model_id": "6fed28e6898f436dbf2b193f2d850cf4",
       "version_major": 2,
       "version_minor": 0
      },
      "text/plain": [
       "  0%|          | 0/194 [00:00<?, ?it/s]"
      ]
     },
     "metadata": {},
     "output_type": "display_data"
    },
    {
     "data": {
      "application/vnd.jupyter.widget-view+json": {
       "model_id": "f9115fb2ed004169b65aec0a322bef97",
       "version_major": 2,
       "version_minor": 0
      },
      "text/plain": [
       "  0%|          | 0/49 [00:00<?, ?it/s]"
      ]
     },
     "metadata": {},
     "output_type": "display_data"
    },
    {
     "name": "stdout",
     "output_type": "stream",
     "text": [
      "EPOCH = 9\n",
      "train_loss = 1880.4962510571038\n",
      "valid_loss = 1340.5127513651946\n",
      "EARLY STOPPING AT EPOCH = 9\n"
     ]
    }
   ],
   "source": [
    "train_losses, valid_losses = main(\n",
    "    model=model,\n",
    "    optimizer=optimizer,\n",
    "    train_dataloader=train_dataloader,\n",
    "    valid_dataloader=valid_dataloader\n",
    ")"
   ]
  },
  {
   "cell_type": "code",
   "execution_count": 25,
   "id": "a58d09cd",
   "metadata": {},
   "outputs": [],
   "source": [
    "test_dataset = ImageAgeDataset(test)"
   ]
  },
  {
   "cell_type": "code",
   "execution_count": 26,
   "id": "22839d41",
   "metadata": {},
   "outputs": [
    {
     "data": {
      "text/plain": [
       "1100"
      ]
     },
     "execution_count": 26,
     "metadata": {},
     "output_type": "execute_result"
    }
   ],
   "source": [
    "len(test_dataset)"
   ]
  },
  {
   "cell_type": "code",
   "execution_count": 27,
   "id": "0e1fa812",
   "metadata": {},
   "outputs": [
    {
     "data": {
      "text/html": [
       "<div>\n",
       "<style scoped>\n",
       "    .dataframe tbody tr th:only-of-type {\n",
       "        vertical-align: middle;\n",
       "    }\n",
       "\n",
       "    .dataframe tbody tr th {\n",
       "        vertical-align: top;\n",
       "    }\n",
       "\n",
       "    .dataframe thead th {\n",
       "        text-align: right;\n",
       "    }\n",
       "</style>\n",
       "<table border=\"1\" class=\"dataframe\">\n",
       "  <thead>\n",
       "    <tr style=\"text-align: right;\">\n",
       "      <th></th>\n",
       "      <th>Filepath</th>\n",
       "      <th>Age</th>\n",
       "      <th>predicted_age</th>\n",
       "    </tr>\n",
       "  </thead>\n",
       "  <tbody>\n",
       "    <tr>\n",
       "      <th>0</th>\n",
       "      <td>20-50/test/20/28492.jpg</td>\n",
       "      <td>20</td>\n",
       "      <td>29</td>\n",
       "    </tr>\n",
       "    <tr>\n",
       "      <th>1</th>\n",
       "      <td>20-50/test/20/28521.jpg</td>\n",
       "      <td>20</td>\n",
       "      <td>29</td>\n",
       "    </tr>\n",
       "    <tr>\n",
       "      <th>2</th>\n",
       "      <td>20-50/test/20/28681.jpg</td>\n",
       "      <td>20</td>\n",
       "      <td>29</td>\n",
       "    </tr>\n",
       "    <tr>\n",
       "      <th>3</th>\n",
       "      <td>20-50/test/20/28801.jpg</td>\n",
       "      <td>20</td>\n",
       "      <td>29</td>\n",
       "    </tr>\n",
       "    <tr>\n",
       "      <th>4</th>\n",
       "      <td>20-50/test/20/28815.jpg</td>\n",
       "      <td>20</td>\n",
       "      <td>29</td>\n",
       "    </tr>\n",
       "  </tbody>\n",
       "</table>\n",
       "</div>"
      ],
      "text/plain": [
       "                  Filepath  Age  predicted_age\n",
       "0  20-50/test/20/28492.jpg   20             29\n",
       "1  20-50/test/20/28521.jpg   20             29\n",
       "2  20-50/test/20/28681.jpg   20             29\n",
       "3  20-50/test/20/28801.jpg   20             29\n",
       "4  20-50/test/20/28815.jpg   20             29"
      ]
     },
     "execution_count": 27,
     "metadata": {},
     "output_type": "execute_result"
    }
   ],
   "source": [
    "import torch.nn.functional as F\n",
    "\n",
    "# Create an empty list to store predicted ages\n",
    "predicted_ages = []\n",
    "\n",
    "# Iterate over each sample in the test dataset\n",
    "for id in range(len(test_dataset)):\n",
    "    # Perform prediction with the model\n",
    "    y_hat_id = F.softmax(model(test_dataset[id]['x'].to(DEVICE)), dim=1)\n",
    "    \n",
    "    # Define a function to extract the predicted age\n",
    "    def pred(x):\n",
    "        for i in range(len(x[0])):\n",
    "            if x[0][i] == torch.max(x[0]).item():\n",
    "                return i\n",
    "    \n",
    "    # Calculate the predicted age\n",
    "    val = pred(y_hat_id) + 20\n",
    "    \n",
    "    # Append the predicted age to the list\n",
    "    predicted_ages.append(val)\n",
    "\n",
    "# Add the predicted ages to the test DataFrame\n",
    "test['predicted_age'] = predicted_ages\n",
    "test.head()"
   ]
  },
  {
   "cell_type": "code",
   "execution_count": null,
   "id": "698af44c",
   "metadata": {},
   "outputs": [],
   "source": []
  }
 ],
 "metadata": {
  "kernelspec": {
   "display_name": "Python 3 (ipykernel)",
   "language": "python",
   "name": "python3"
  },
  "language_info": {
   "codemirror_mode": {
    "name": "ipython",
    "version": 3
   },
   "file_extension": ".py",
   "mimetype": "text/x-python",
   "name": "python",
   "nbconvert_exporter": "python",
   "pygments_lexer": "ipython3",
   "version": "3.10.12"
  }
 },
 "nbformat": 4,
 "nbformat_minor": 5
}
